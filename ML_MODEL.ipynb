{
 "cells": [
  {
   "cell_type": "code",
   "execution_count": 1,
   "id": "0274c31c-7b03-41b3-8e28-e5ad5dc08deb",
   "metadata": {},
   "outputs": [
    {
     "name": "stdout",
     "output_type": "stream",
     "text": [
      "Requirement already satisfied: pandas in c:\\users\\91979\\onedrive\\desktop\\python.project\\annaconda\\lib\\site-packages (2.2.2)\n",
      "Requirement already satisfied: scikit-learn in c:\\users\\91979\\onedrive\\desktop\\python.project\\annaconda\\lib\\site-packages (1.4.2)\n",
      "Requirement already satisfied: matplotlib in c:\\users\\91979\\onedrive\\desktop\\python.project\\annaconda\\lib\\site-packages (3.8.4)\n",
      "Requirement already satisfied: numpy>=1.26.0 in c:\\users\\91979\\onedrive\\desktop\\python.project\\annaconda\\lib\\site-packages (from pandas) (1.26.4)\n",
      "Requirement already satisfied: python-dateutil>=2.8.2 in c:\\users\\91979\\onedrive\\desktop\\python.project\\annaconda\\lib\\site-packages (from pandas) (2.9.0.post0)\n",
      "Requirement already satisfied: pytz>=2020.1 in c:\\users\\91979\\onedrive\\desktop\\python.project\\annaconda\\lib\\site-packages (from pandas) (2024.1)\n",
      "Requirement already satisfied: tzdata>=2022.7 in c:\\users\\91979\\onedrive\\desktop\\python.project\\annaconda\\lib\\site-packages (from pandas) (2023.3)\n",
      "Requirement already satisfied: scipy>=1.6.0 in c:\\users\\91979\\onedrive\\desktop\\python.project\\annaconda\\lib\\site-packages (from scikit-learn) (1.13.1)\n",
      "Requirement already satisfied: joblib>=1.2.0 in c:\\users\\91979\\onedrive\\desktop\\python.project\\annaconda\\lib\\site-packages (from scikit-learn) (1.4.2)\n",
      "Requirement already satisfied: threadpoolctl>=2.0.0 in c:\\users\\91979\\onedrive\\desktop\\python.project\\annaconda\\lib\\site-packages (from scikit-learn) (2.2.0)\n",
      "Requirement already satisfied: contourpy>=1.0.1 in c:\\users\\91979\\onedrive\\desktop\\python.project\\annaconda\\lib\\site-packages (from matplotlib) (1.2.0)\n",
      "Requirement already satisfied: cycler>=0.10 in c:\\users\\91979\\onedrive\\desktop\\python.project\\annaconda\\lib\\site-packages (from matplotlib) (0.11.0)\n",
      "Requirement already satisfied: fonttools>=4.22.0 in c:\\users\\91979\\onedrive\\desktop\\python.project\\annaconda\\lib\\site-packages (from matplotlib) (4.51.0)\n",
      "Requirement already satisfied: kiwisolver>=1.3.1 in c:\\users\\91979\\onedrive\\desktop\\python.project\\annaconda\\lib\\site-packages (from matplotlib) (1.4.4)\n",
      "Requirement already satisfied: packaging>=20.0 in c:\\users\\91979\\onedrive\\desktop\\python.project\\annaconda\\lib\\site-packages (from matplotlib) (23.2)\n",
      "Requirement already satisfied: pillow>=8 in c:\\users\\91979\\onedrive\\desktop\\python.project\\annaconda\\lib\\site-packages (from matplotlib) (10.3.0)\n",
      "Requirement already satisfied: pyparsing>=2.3.1 in c:\\users\\91979\\onedrive\\desktop\\python.project\\annaconda\\lib\\site-packages (from matplotlib) (3.0.9)\n",
      "Requirement already satisfied: six>=1.5 in c:\\users\\91979\\onedrive\\desktop\\python.project\\annaconda\\lib\\site-packages (from python-dateutil>=2.8.2->pandas) (1.16.0)\n",
      "Note: you may need to restart the kernel to use updated packages.\n"
     ]
    }
   ],
   "source": [
    "pip install pandas scikit-learn matplotlib"
   ]
  },
  {
   "cell_type": "code",
   "execution_count": 26,
   "id": "0bfe5f03-76d3-4f5a-9579-272e153e24ea",
   "metadata": {},
   "outputs": [
    {
     "data": {
      "text/html": [
       "<div>\n",
       "<style scoped>\n",
       "    .dataframe tbody tr th:only-of-type {\n",
       "        vertical-align: middle;\n",
       "    }\n",
       "\n",
       "    .dataframe tbody tr th {\n",
       "        vertical-align: top;\n",
       "    }\n",
       "\n",
       "    .dataframe thead th {\n",
       "        text-align: right;\n",
       "    }\n",
       "</style>\n",
       "<table border=\"1\" class=\"dataframe\">\n",
       "  <thead>\n",
       "    <tr style=\"text-align: right;\">\n",
       "      <th></th>\n",
       "      <th>created_at</th>\n",
       "      <th>entry_id</th>\n",
       "      <th>Temperature</th>\n",
       "      <th>Humidity</th>\n",
       "      <th>Water level</th>\n",
       "      <th>NPK_soil</th>\n",
       "      <th>Soil Moisture</th>\n",
       "    </tr>\n",
       "  </thead>\n",
       "  <tbody>\n",
       "    <tr>\n",
       "      <th>0</th>\n",
       "      <td>2025-01-03T09:12:57+00:00</td>\n",
       "      <td>1</td>\n",
       "      <td>30.6</td>\n",
       "      <td>38.8</td>\n",
       "      <td>NaN</td>\n",
       "      <td>NaN</td>\n",
       "      <td>NaN</td>\n",
       "    </tr>\n",
       "    <tr>\n",
       "      <th>1</th>\n",
       "      <td>2025-01-03T09:13:18+00:00</td>\n",
       "      <td>2</td>\n",
       "      <td>30.5</td>\n",
       "      <td>43.2</td>\n",
       "      <td>NaN</td>\n",
       "      <td>NaN</td>\n",
       "      <td>NaN</td>\n",
       "    </tr>\n",
       "    <tr>\n",
       "      <th>2</th>\n",
       "      <td>2025-01-03T09:13:39+00:00</td>\n",
       "      <td>3</td>\n",
       "      <td>30.4</td>\n",
       "      <td>43.1</td>\n",
       "      <td>NaN</td>\n",
       "      <td>NaN</td>\n",
       "      <td>NaN</td>\n",
       "    </tr>\n",
       "    <tr>\n",
       "      <th>3</th>\n",
       "      <td>2025-01-03T09:14:00+00:00</td>\n",
       "      <td>4</td>\n",
       "      <td>30.3</td>\n",
       "      <td>43.1</td>\n",
       "      <td>NaN</td>\n",
       "      <td>NaN</td>\n",
       "      <td>NaN</td>\n",
       "    </tr>\n",
       "    <tr>\n",
       "      <th>4</th>\n",
       "      <td>2025-01-03T09:14:21+00:00</td>\n",
       "      <td>5</td>\n",
       "      <td>30.2</td>\n",
       "      <td>40.7</td>\n",
       "      <td>NaN</td>\n",
       "      <td>NaN</td>\n",
       "      <td>NaN</td>\n",
       "    </tr>\n",
       "  </tbody>\n",
       "</table>\n",
       "</div>"
      ],
      "text/plain": [
       "                  created_at  entry_id  Temperature  Humidity  Water level  \\\n",
       "0  2025-01-03T09:12:57+00:00         1         30.6      38.8          NaN   \n",
       "1  2025-01-03T09:13:18+00:00         2         30.5      43.2          NaN   \n",
       "2  2025-01-03T09:13:39+00:00         3         30.4      43.1          NaN   \n",
       "3  2025-01-03T09:14:00+00:00         4         30.3      43.1          NaN   \n",
       "4  2025-01-03T09:14:21+00:00         5         30.2      40.7          NaN   \n",
       "\n",
       "   NPK_soil  Soil Moisture  \n",
       "0       NaN            NaN  \n",
       "1       NaN            NaN  \n",
       "2       NaN            NaN  \n",
       "3       NaN            NaN  \n",
       "4       NaN            NaN  "
      ]
     },
     "execution_count": 26,
     "metadata": {},
     "output_type": "execute_result"
    }
   ],
   "source": [
    "import pandas as pd\n",
    "\n",
    "# Load the CSV file\n",
    "df = pd.read_csv('Anshuman.csv')\n",
    "\n",
    "# Display the first few rows of the DataFrame\n",
    "df.head()\n"
   ]
  },
  {
   "cell_type": "code",
   "execution_count": 30,
   "id": "72391815-a05c-4392-8c0c-c6b4e85274cc",
   "metadata": {},
   "outputs": [
    {
     "name": "stdout",
     "output_type": "stream",
     "text": [
      "Water level       0\n",
      "Soil Moisture     0\n",
      "NPK_soil         21\n",
      "dtype: int64\n"
     ]
    },
    {
     "name": "stderr",
     "output_type": "stream",
     "text": [
      "C:\\Users\\91979\\AppData\\Local\\Temp\\ipykernel_17984\\3473731792.py:4: FutureWarning: Series.fillna with 'method' is deprecated and will raise in a future version. Use obj.ffill() or obj.bfill() instead.\n",
      "  df['NPK_soil'] = df['NPK_soil'].fillna(method='ffill')  # Forward fill\n"
     ]
    }
   ],
   "source": [
    "# Fill missing values in specific columns\n",
    "df['Water level'] = df['Water level'].fillna(df['Water level'].mean())  # Replace with mean\n",
    "df['Soil Moisture'] = df['Soil Moisture'].fillna(df['Soil Moisture'].median())  # Replace with median\n",
    "df['NPK_soil'] = df['NPK_soil'].fillna(method='ffill')  # Forward fill\n",
    "\n",
    "# Check if missing values are handled\n",
    "print(df[['Water level', 'Soil Moisture', 'NPK_soil']].isnull().sum())\n"
   ]
  },
  {
   "cell_type": "code",
   "execution_count": 32,
   "id": "ebdbd8b6-d157-4bf0-9337-d58c6e08a139",
   "metadata": {},
   "outputs": [
    {
     "name": "stdout",
     "output_type": "stream",
     "text": [
      "Water level       0\n",
      "Soil Moisture     0\n",
      "NPK_soil         21\n",
      "dtype: int64\n"
     ]
    }
   ],
   "source": [
    "# Forward fill missing values in 'NPK_soil'\n",
    "df['NPK_soil'] = df['NPK_soil'].ffill()  # Forward fill\n",
    "\n",
    "# Check if missing values are handled\n",
    "print(df[['Water level', 'Soil Moisture', 'NPK_soil']].isnull().sum())\n"
   ]
  },
  {
   "cell_type": "code",
   "execution_count": 34,
   "id": "96842592-6556-4017-87e0-42ceef0d021b",
   "metadata": {},
   "outputs": [
    {
     "name": "stdout",
     "output_type": "stream",
     "text": [
      "created_at        0\n",
      "entry_id          0\n",
      "Temperature       0\n",
      "Humidity          0\n",
      "Water level       0\n",
      "NPK_soil         21\n",
      "Soil Moisture     0\n",
      "dtype: int64\n"
     ]
    }
   ],
   "source": [
    "print(df.isnull().sum())\n"
   ]
  },
  {
   "cell_type": "code",
   "execution_count": 40,
   "id": "22f28396-b3a3-4d8f-b95d-113eec2a73ba",
   "metadata": {},
   "outputs": [
    {
     "name": "stdout",
     "output_type": "stream",
     "text": [
      "   NPK_soil  Water level  Soil Moisture  Temperature  Humidity  \\\n",
      "0       NaN       6.2375            5.0         30.6      38.8   \n",
      "1       NaN       6.2375            5.0         30.5      43.2   \n",
      "2       NaN       6.2375            5.0         30.4      43.1   \n",
      "3       NaN       6.2375            5.0         30.3      43.1   \n",
      "4       NaN       6.2375            5.0         30.2      40.7   \n",
      "\n",
      "                                      Soil Condition Water Condition  \\\n",
      "0  Polluted (Requires Urea, Potash, Potassium Sul...  Water Required   \n",
      "1  Polluted (Requires Urea, Potash, Potassium Sul...  Water Required   \n",
      "2  Polluted (Requires Urea, Potash, Potassium Sul...  Water Required   \n",
      "3  Polluted (Requires Urea, Potash, Potassium Sul...  Water Required   \n",
      "4  Polluted (Requires Urea, Potash, Potassium Sul...  Water Required   \n",
      "\n",
      "     Moisture Condition Temperature Condition Humidity Condition  \n",
      "0  Soil Moisture Medium        Water Required     Most Favorable  \n",
      "1  Soil Moisture Medium        Water Required     Water Required  \n",
      "2  Soil Moisture Medium        Water Required     Water Required  \n",
      "3  Soil Moisture Medium        Water Required     Water Required  \n",
      "4  Soil Moisture Medium        Water Required     Water Required  \n"
     ]
    },
    {
     "name": "stderr",
     "output_type": "stream",
     "text": [
      "C:\\Users\\91979\\AppData\\Local\\Temp\\ipykernel_17984\\1420773590.py:9: FutureWarning: Series.fillna with 'method' is deprecated and will raise in a future version. Use obj.ffill() or obj.bfill() instead.\n",
      "  df['NPK_soil'] = df['NPK_soil'].fillna(method='ffill')  # Forward fill\n"
     ]
    }
   ],
   "source": [
    "import pandas as pd\n",
    "\n",
    "# Load your data\n",
    "df = pd.read_csv('Anshuman.csv')\n",
    "\n",
    "# Fill missing values as you have done\n",
    "df['Water level'] = df['Water level'].fillna(df['Water level'].mean())  # Replace with mean\n",
    "df['Soil Moisture'] = df['Soil Moisture'].fillna(df['Soil Moisture'].median())  # Replace with median\n",
    "df['NPK_soil'] = df['NPK_soil'].fillna(method='ffill')  # Forward fill\n",
    "\n",
    "# Apply the soil condition classification\n",
    "def classify_soil(row):\n",
    "    if 1 < row['NPK_soil'] < 2.9:\n",
    "        soil_condition = 'Good Condition'\n",
    "    else:\n",
    "        soil_condition = 'Polluted (Requires Urea, Potash, Potassium Sulphate)'\n",
    "\n",
    "    if row['Water level'] < 20:\n",
    "        water_condition = 'Water Required'\n",
    "    else:\n",
    "        water_condition = 'Sufficient Water'\n",
    "\n",
    "    if 5 <= row['Soil Moisture'] <= 15:\n",
    "        moisture_condition = 'Soil Moisture Medium'\n",
    "    else:\n",
    "        moisture_condition = 'Soil Moisture Not Optimal'\n",
    "\n",
    "    if row['Temperature'] < 30:\n",
    "        temperature_condition = 'Good Temperature'\n",
    "    else:\n",
    "        temperature_condition = 'Water Required'\n",
    "\n",
    "    if row['Humidity'] < 40:\n",
    "        humidity_condition = 'Most Favorable'\n",
    "    else:\n",
    "        humidity_condition = 'Water Required'\n",
    "\n",
    "    return pd.Series([soil_condition, water_condition, moisture_condition, temperature_condition, humidity_condition])\n",
    "\n",
    "# Apply classification function\n",
    "df[['Soil Condition', 'Water Condition', 'Moisture Condition', 'Temperature Condition', 'Humidity Condition']] = df.apply(classify_soil, axis=1)\n",
    "\n",
    "# Show the classified results\n",
    "print(df[['NPK_soil', 'Water level', 'Soil Moisture', 'Temperature', 'Humidity', \n",
    "          'Soil Condition', 'Water Condition', 'Moisture Condition', 'Temperature Condition', 'Humidity Condition']].head())\n"
   ]
  },
  {
   "cell_type": "code",
   "execution_count": 42,
   "id": "3e62914f-3f88-41b8-8cac-644b659b77c1",
   "metadata": {
    "scrolled": true
   },
   "outputs": [
    {
     "name": "stdout",
     "output_type": "stream",
     "text": [
      "Accuracy: 100.00%\n",
      "Confusion Matrix:\n",
      "[[9 0]\n",
      " [0 9]]\n"
     ]
    },
    {
     "data": {
      "image/png": "[encoded data removed]",
      "text/plain": [
       "<Figure size 640x480 with 2 Axes>"
      ]
     },
     "metadata": {},
     "output_type": "display_data"
    }
   ],
   "source": [
    "import pandas as pd\n",
    "from sklearn.model_selection import train_test_split\n",
    "from sklearn.tree import DecisionTreeClassifier\n",
    "from sklearn.metrics import accuracy_score, confusion_matrix\n",
    "import matplotlib.pyplot as plt\n",
    "import seaborn as sns\n",
    "\n",
    "\n",
    "# Define the target and features\n",
    "X = df[['NPK_soil', 'Water level', 'Soil Moisture', 'Temperature', 'Humidity']]  # Features\n",
    "y = df['Soil Condition']  # You can change 'Soil Condition' to any other target column, like 'Water Condition'\n",
    "\n",
    "# Split the data into training and testing sets (80% for training, 20% for testing)\n",
    "X_train, X_test, y_train, y_test = train_test_split(X, y, test_size=0.2, random_state=42)\n",
    "\n",
    "# Initialize and train a DecisionTreeClassifier\n",
    "model = DecisionTreeClassifier(random_state=42)\n",
    "model.fit(X_train, y_train)\n",
    "\n",
    "# Make predictions on the test set\n",
    "y_pred = model.predict(X_test)\n",
    "\n",
    "# Evaluate the model's performance\n",
    "accuracy = accuracy_score(y_test, y_pred)\n",
    "print(f'Accuracy: {accuracy * 100:.2f}%')\n",
    "\n",
    "# Generate a confusion matrix\n",
    "cm = confusion_matrix(y_test, y_pred)\n",
    "print('Confusion Matrix:')\n",
    "print(cm)\n",
    "\n",
    "# Visualize the confusion matrix using seaborn\n",
    "sns.heatmap(cm, annot=True, fmt='d', cmap='Blues')\n",
    "plt.xlabel('Predicted')\n",
    "plt.ylabel('True')\n",
    "plt.title('Confusion Matrix')\n",
    "plt.show()\n"
   ]
  },
  {
   "cell_type": "code",
   "execution_count": 44,
   "id": "05cd9cc3-2260-4954-9fdd-3c9cab911d4b",
   "metadata": {},
   "outputs": [
    {
     "name": "stdout",
     "output_type": "stream",
     "text": [
      "    NPK_soil  Water level  Soil Moisture  Temperature  Humidity  \\\n",
      "0        NaN       6.2375            5.0         30.6      38.8   \n",
      "1        NaN       6.2375            5.0         30.5      43.2   \n",
      "2        NaN       6.2375            5.0         30.4      43.1   \n",
      "3        NaN       6.2375            5.0         30.3      43.1   \n",
      "4        NaN       6.2375            5.0         30.2      40.7   \n",
      "..       ...          ...            ...          ...       ...   \n",
      "82   1.64516       5.0000            5.0         30.5      40.3   \n",
      "83   1.67742       5.0000            5.0         30.5      40.4   \n",
      "84   1.70968       5.0000            5.0         30.5      40.5   \n",
      "85   1.70968       5.0000            5.0         30.5      40.5   \n",
      "86   1.74194       5.0000            5.0         30.5      40.5   \n",
      "\n",
      "                                      Recommendations  \n",
      "0   Soil is polluted. Add Urea, Potash, and Potass...  \n",
      "1   Soil is polluted. Add Urea, Potash, and Potass...  \n",
      "2   Soil is polluted. Add Urea, Potash, and Potass...  \n",
      "3   Soil is polluted. Add Urea, Potash, and Potass...  \n",
      "4   Soil is polluted. Add Urea, Potash, and Potass...  \n",
      "..                                                ...  \n",
      "82  Soil is in good condition. | Water required. |...  \n",
      "83  Soil is in good condition. | Water required. |...  \n",
      "84  Soil is in good condition. | Water required. |...  \n",
      "85  Soil is in good condition. | Water required. |...  \n",
      "86  Soil is in good condition. | Water required. |...  \n",
      "\n",
      "[87 rows x 6 columns]\n"
     ]
    }
   ],
   "source": [
    "# Define a function to generate recommendations\n",
    "def generate_recommendation(row):\n",
    "    recommendations = []\n",
    "    \n",
    "    # NPK Condition\n",
    "    if 1 <= row['NPK_soil'] <= 2.9:\n",
    "        recommendations.append(\"Soil is in good condition.\")\n",
    "    else:\n",
    "        recommendations.append(\"Soil is polluted. Add Urea, Potash, and Potassium Sulphate.\")\n",
    "    \n",
    "    # Water Level Condition\n",
    "    if row['Water level'] < 20:\n",
    "        recommendations.append(\"Water required.\")\n",
    "    \n",
    "    # Soil Moisture Condition\n",
    "    if 5 <= row['Soil Moisture'] <= 15:\n",
    "        recommendations.append(\"Soil moisture is medium.\")\n",
    "    \n",
    "    # Temperature Condition\n",
    "    if row['Temperature'] < 30:\n",
    "        recommendations.append(\"Soil is in good condition.\")\n",
    "    else:\n",
    "        recommendations.append(\"Water required due to high temperature.\")\n",
    "    \n",
    "    # Humidity Condition\n",
    "    if row['Humidity'] < 40:\n",
    "        recommendations.append(\"Humidity is most favorable.\")\n",
    "    else:\n",
    "        recommendations.append(\"Water required due to high humidity.\")\n",
    "    \n",
    "    return \" | \".join(recommendations)  # Combine all recommendations into a single string\n",
    "\n",
    "# Apply the function to generate recommendations for each row\n",
    "df['Recommendations'] = df.apply(generate_recommendation, axis=1)\n",
    "\n",
    "# Display the updated DataFrame\n",
    "print(df[['NPK_soil', 'Water level', 'Soil Moisture', 'Temperature', 'Humidity', 'Recommendations']])\n"
   ]
  },
  {
   "cell_type": "code",
   "execution_count": null,
   "id": "73b5fc2a-46af-466d-9f15-c26da2e2b1b8",
   "metadata": {},
   "outputs": [],
   "source": []
  }
 ],
 "metadata": {
  "kernelspec": {
   "display_name": "Python 3 (ipykernel)",
   "language": "python",
   "name": "python3"
  },
  "language_info": {
   "codemirror_mode": {
    "name": "ipython",
    "version": 3
   },
   "file_extension": ".py",
   "mimetype": "text/x-python",
   "name": "python",
   "nbconvert_exporter": "python",
   "pygments_lexer": "ipython3",
   "version": "3.12.4"
  }
 },
 "nbformat": 4,
 "nbformat_minor": 5
}
